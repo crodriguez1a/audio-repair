{
 "cells": [
  {
   "cell_type": "code",
   "execution_count": 1,
   "metadata": {},
   "outputs": [],
   "source": [
    "import numpy as np\n",
    "import librosa\n",
    "import matplotlib.pyplot as plt\n",
    "import IPython.display\n",
    "import pandas as pd\n",
    "import librosa.display as librosa_display\n",
    "\n",
    "from audio_segment import AudioSegment\n",
    "from visualizers import vis_spec"
   ]
  },
  {
   "cell_type": "markdown",
   "metadata": {},
   "source": [
    "Damaged"
   ]
  },
  {
   "cell_type": "code",
   "execution_count": 2,
   "metadata": {},
   "outputs": [
    {
     "name": "stdout",
     "output_type": "stream",
     "text": [
      "540225 (540225,) 44100\n"
     ]
    }
   ],
   "source": [
    "D_agnus_dei = '../../data/audio_sources/wav/damaged/izotope_agnus_dei.wav'\n",
    "D = AudioSegment(D_agnus_dei, duration=12.25)\n",
    "\n",
    "print(D.audio.size, D.audio.shape, D.sample_rate)"
   ]
  },
  {
   "cell_type": "code",
   "execution_count": 233,
   "metadata": {},
   "outputs": [
    {
     "name": "stdout",
     "output_type": "stream",
     "text": [
      "-0.11444092\n",
      "0.14855957\n",
      "5.238364e-07\n"
     ]
    }
   ],
   "source": [
    "print(D.audio.min())\n",
    "print(D.audio.max())\n",
    "print(D.audio.mean())"
   ]
  },
  {
   "cell_type": "code",
   "execution_count": 354,
   "metadata": {},
   "outputs": [
    {
     "data": {
      "text/plain": [
       "Text(0.5, 1.0, '')"
      ]
     },
     "execution_count": 354,
     "metadata": {},
     "output_type": "execute_result"
    },
    {
     "data": {
      "image/png": "[encoded data removed]",
      "text/plain": [
       "<Figure size 432x288 with 1 Axes>"
      ]
     },
     "metadata": {
      "needs_background": "light"
     },
     "output_type": "display_data"
    }
   ],
   "source": [
    "%matplotlib inline\n",
    "plt.hist(D.audio, weights=(np.zeros_like(D.audio) + 1. / D.audio.size) * 100)\n",
    "plt.title(\"\")"
   ]
  },
  {
   "cell_type": "code",
   "execution_count": 355,
   "metadata": {},
   "outputs": [
    {
     "data": {
      "text/plain": [
       "Text(0.5, 1.0, 'Damaged WAV')"
      ]
     },
     "execution_count": 355,
     "metadata": {},
     "output_type": "execute_result"
    },
    {
     "data": {
      "image/png": "[encoded data removed]",
      "text/plain": [
       "<Figure size 432x288 with 1 Axes>"
      ]
     },
     "metadata": {
      "needs_background": "light"
     },
     "output_type": "display_data"
    }
   ],
   "source": [
    "librosa_display.waveplot(D.audio, D.sample_rate)\n",
    "plt.title(\"Damaged WAV\")"
   ]
  },
  {
   "cell_type": "code",
   "execution_count": 359,
   "metadata": {},
   "outputs": [
    {
     "data": {
      "text/html": [
       "<div>\n",
       "<style scoped>\n",
       "    .dataframe tbody tr th:only-of-type {\n",
       "        vertical-align: middle;\n",
       "    }\n",
       "\n",
       "    .dataframe tbody tr th {\n",
       "        vertical-align: top;\n",
       "    }\n",
       "\n",
       "    .dataframe thead th {\n",
       "        text-align: right;\n",
       "    }\n",
       "</style>\n",
       "<table border=\"1\" class=\"dataframe\">\n",
       "  <thead>\n",
       "    <tr style=\"text-align: right;\">\n",
       "      <th></th>\n",
       "      <th>1</th>\n",
       "      <th>2</th>\n",
       "      <th>3</th>\n",
       "      <th>4</th>\n",
       "      <th>5</th>\n",
       "      <th>6</th>\n",
       "      <th>7</th>\n",
       "      <th>8</th>\n",
       "      <th>9</th>\n",
       "      <th>10</th>\n",
       "      <th>...</th>\n",
       "      <th>119</th>\n",
       "      <th>120</th>\n",
       "      <th>121</th>\n",
       "      <th>122</th>\n",
       "      <th>123</th>\n",
       "      <th>124</th>\n",
       "      <th>125</th>\n",
       "      <th>126</th>\n",
       "      <th>127</th>\n",
       "      <th>128</th>\n",
       "    </tr>\n",
       "  </thead>\n",
       "  <tbody>\n",
       "    <tr>\n",
       "      <th>0</th>\n",
       "      <td>0.003645</td>\n",
       "      <td>0.020378</td>\n",
       "      <td>0.026549</td>\n",
       "      <td>0.008962</td>\n",
       "      <td>0.028303</td>\n",
       "      <td>0.065472</td>\n",
       "      <td>0.014973</td>\n",
       "      <td>0.006347</td>\n",
       "      <td>0.001098</td>\n",
       "      <td>0.000118</td>\n",
       "      <td>...</td>\n",
       "      <td>0.000004</td>\n",
       "      <td>0.000004</td>\n",
       "      <td>0.000004</td>\n",
       "      <td>6.542747e-07</td>\n",
       "      <td>6.879701e-07</td>\n",
       "      <td>0.000001</td>\n",
       "      <td>0.000003</td>\n",
       "      <td>0.000002</td>\n",
       "      <td>0.000001</td>\n",
       "      <td>0.000002</td>\n",
       "    </tr>\n",
       "    <tr>\n",
       "      <th>1</th>\n",
       "      <td>0.001304</td>\n",
       "      <td>0.009584</td>\n",
       "      <td>0.009090</td>\n",
       "      <td>0.006679</td>\n",
       "      <td>0.026261</td>\n",
       "      <td>0.061310</td>\n",
       "      <td>0.020329</td>\n",
       "      <td>0.008631</td>\n",
       "      <td>0.001664</td>\n",
       "      <td>0.000600</td>\n",
       "      <td>...</td>\n",
       "      <td>0.000005</td>\n",
       "      <td>0.000004</td>\n",
       "      <td>0.000003</td>\n",
       "      <td>1.231493e-06</td>\n",
       "      <td>7.980236e-07</td>\n",
       "      <td>0.000001</td>\n",
       "      <td>0.000002</td>\n",
       "      <td>0.000002</td>\n",
       "      <td>0.000001</td>\n",
       "      <td>0.000002</td>\n",
       "    </tr>\n",
       "    <tr>\n",
       "      <th>2</th>\n",
       "      <td>0.003045</td>\n",
       "      <td>0.005743</td>\n",
       "      <td>0.004924</td>\n",
       "      <td>0.014941</td>\n",
       "      <td>0.047422</td>\n",
       "      <td>0.077961</td>\n",
       "      <td>0.023615</td>\n",
       "      <td>0.006832</td>\n",
       "      <td>0.001117</td>\n",
       "      <td>0.001388</td>\n",
       "      <td>...</td>\n",
       "      <td>0.000005</td>\n",
       "      <td>0.000003</td>\n",
       "      <td>0.000002</td>\n",
       "      <td>1.775088e-06</td>\n",
       "      <td>1.858788e-06</td>\n",
       "      <td>0.000001</td>\n",
       "      <td>0.000001</td>\n",
       "      <td>0.000001</td>\n",
       "      <td>0.000001</td>\n",
       "      <td>0.000002</td>\n",
       "    </tr>\n",
       "  </tbody>\n",
       "</table>\n",
       "<p>3 rows × 128 columns</p>\n",
       "</div>"
      ],
      "text/plain": [
       "          1         2         3         4         5         6         7  \\\n",
       "0  0.003645  0.020378  0.026549  0.008962  0.028303  0.065472  0.014973   \n",
       "1  0.001304  0.009584  0.009090  0.006679  0.026261  0.061310  0.020329   \n",
       "2  0.003045  0.005743  0.004924  0.014941  0.047422  0.077961  0.023615   \n",
       "\n",
       "          8         9        10  ...       119       120       121  \\\n",
       "0  0.006347  0.001098  0.000118  ...  0.000004  0.000004  0.000004   \n",
       "1  0.008631  0.001664  0.000600  ...  0.000005  0.000004  0.000003   \n",
       "2  0.006832  0.001117  0.001388  ...  0.000005  0.000003  0.000002   \n",
       "\n",
       "            122           123       124       125       126       127  \\\n",
       "0  6.542747e-07  6.879701e-07  0.000001  0.000003  0.000002  0.000001   \n",
       "1  1.231493e-06  7.980236e-07  0.000001  0.000002  0.000002  0.000001   \n",
       "2  1.775088e-06  1.858788e-06  0.000001  0.000001  0.000001  0.000001   \n",
       "\n",
       "        128  \n",
       "0  0.000002  \n",
       "1  0.000002  \n",
       "2  0.000002  \n",
       "\n",
       "[3 rows x 128 columns]"
      ]
     },
     "execution_count": 359,
     "metadata": {},
     "output_type": "execute_result"
    }
   ],
   "source": [
    "D_columns = [f'{i}' for i in range(1,129)]\n",
    "D_df = pd.DataFrame(D.mel_features.T, columns=D_columns)\n",
    "D_df[:3]"
   ]
  },
  {
   "cell_type": "code",
   "execution_count": 362,
   "metadata": {},
   "outputs": [
    {
     "data": {
      "text/html": [
       "<div>\n",
       "<style scoped>\n",
       "    .dataframe tbody tr th:only-of-type {\n",
       "        vertical-align: middle;\n",
       "    }\n",
       "\n",
       "    .dataframe tbody tr th {\n",
       "        vertical-align: top;\n",
       "    }\n",
       "\n",
       "    .dataframe thead th {\n",
       "        text-align: right;\n",
       "    }\n",
       "</style>\n",
       "<table border=\"1\" class=\"dataframe\">\n",
       "  <thead>\n",
       "    <tr style=\"text-align: right;\">\n",
       "      <th></th>\n",
       "      <th>1</th>\n",
       "      <th>2</th>\n",
       "      <th>3</th>\n",
       "      <th>4</th>\n",
       "      <th>5</th>\n",
       "      <th>6</th>\n",
       "      <th>7</th>\n",
       "      <th>8</th>\n",
       "      <th>9</th>\n",
       "      <th>10</th>\n",
       "      <th>...</th>\n",
       "      <th>119</th>\n",
       "      <th>120</th>\n",
       "      <th>121</th>\n",
       "      <th>122</th>\n",
       "      <th>123</th>\n",
       "      <th>124</th>\n",
       "      <th>125</th>\n",
       "      <th>126</th>\n",
       "      <th>127</th>\n",
       "      <th>128</th>\n",
       "    </tr>\n",
       "  </thead>\n",
       "  <tbody>\n",
       "    <tr>\n",
       "      <th>count</th>\n",
       "      <td>1056.000000</td>\n",
       "      <td>1056.000000</td>\n",
       "      <td>1056.000000</td>\n",
       "      <td>1056.000000</td>\n",
       "      <td>1056.000000</td>\n",
       "      <td>1056.000000</td>\n",
       "      <td>1056.000000</td>\n",
       "      <td>1056.000000</td>\n",
       "      <td>1056.000000</td>\n",
       "      <td>1056.000000</td>\n",
       "      <td>...</td>\n",
       "      <td>1.056000e+03</td>\n",
       "      <td>1.056000e+03</td>\n",
       "      <td>1.056000e+03</td>\n",
       "      <td>1.056000e+03</td>\n",
       "      <td>1.056000e+03</td>\n",
       "      <td>1.056000e+03</td>\n",
       "      <td>1.056000e+03</td>\n",
       "      <td>1.056000e+03</td>\n",
       "      <td>1.056000e+03</td>\n",
       "      <td>1.056000e+03</td>\n",
       "    </tr>\n",
       "    <tr>\n",
       "      <th>mean</th>\n",
       "      <td>0.009681</td>\n",
       "      <td>0.038416</td>\n",
       "      <td>0.036924</td>\n",
       "      <td>0.122835</td>\n",
       "      <td>0.208162</td>\n",
       "      <td>0.147293</td>\n",
       "      <td>0.080255</td>\n",
       "      <td>0.929710</td>\n",
       "      <td>3.577569</td>\n",
       "      <td>2.905469</td>\n",
       "      <td>...</td>\n",
       "      <td>3.170996e-06</td>\n",
       "      <td>5.056936e-07</td>\n",
       "      <td>5.335052e-07</td>\n",
       "      <td>6.560833e-07</td>\n",
       "      <td>8.129951e-07</td>\n",
       "      <td>9.625783e-07</td>\n",
       "      <td>1.113871e-06</td>\n",
       "      <td>1.243955e-06</td>\n",
       "      <td>1.328553e-06</td>\n",
       "      <td>1.418215e-06</td>\n",
       "    </tr>\n",
       "    <tr>\n",
       "      <th>std</th>\n",
       "      <td>0.008858</td>\n",
       "      <td>0.055058</td>\n",
       "      <td>0.130695</td>\n",
       "      <td>0.721914</td>\n",
       "      <td>1.193723</td>\n",
       "      <td>0.484376</td>\n",
       "      <td>0.246331</td>\n",
       "      <td>1.770263</td>\n",
       "      <td>5.309386</td>\n",
       "      <td>4.738249</td>\n",
       "      <td>...</td>\n",
       "      <td>1.536607e-06</td>\n",
       "      <td>7.633981e-07</td>\n",
       "      <td>3.693617e-07</td>\n",
       "      <td>3.095824e-07</td>\n",
       "      <td>3.928499e-07</td>\n",
       "      <td>3.567225e-07</td>\n",
       "      <td>3.433026e-07</td>\n",
       "      <td>2.979661e-07</td>\n",
       "      <td>2.849756e-07</td>\n",
       "      <td>3.169576e-07</td>\n",
       "    </tr>\n",
       "    <tr>\n",
       "      <th>min</th>\n",
       "      <td>0.000090</td>\n",
       "      <td>0.000225</td>\n",
       "      <td>0.000688</td>\n",
       "      <td>0.001651</td>\n",
       "      <td>0.003415</td>\n",
       "      <td>0.001607</td>\n",
       "      <td>0.002365</td>\n",
       "      <td>0.000099</td>\n",
       "      <td>0.000293</td>\n",
       "      <td>0.000118</td>\n",
       "      <td>...</td>\n",
       "      <td>2.895328e-07</td>\n",
       "      <td>1.690951e-07</td>\n",
       "      <td>2.187908e-07</td>\n",
       "      <td>2.455984e-07</td>\n",
       "      <td>3.975522e-07</td>\n",
       "      <td>4.365147e-07</td>\n",
       "      <td>3.887883e-07</td>\n",
       "      <td>5.654759e-07</td>\n",
       "      <td>6.364306e-07</td>\n",
       "      <td>7.125145e-07</td>\n",
       "    </tr>\n",
       "    <tr>\n",
       "      <th>25%</th>\n",
       "      <td>0.003502</td>\n",
       "      <td>0.012820</td>\n",
       "      <td>0.011070</td>\n",
       "      <td>0.019979</td>\n",
       "      <td>0.032271</td>\n",
       "      <td>0.036619</td>\n",
       "      <td>0.014011</td>\n",
       "      <td>0.004962</td>\n",
       "      <td>0.006083</td>\n",
       "      <td>0.008521</td>\n",
       "      <td>...</td>\n",
       "      <td>2.119133e-06</td>\n",
       "      <td>3.103208e-07</td>\n",
       "      <td>4.072090e-07</td>\n",
       "      <td>5.303778e-07</td>\n",
       "      <td>6.406562e-07</td>\n",
       "      <td>7.883439e-07</td>\n",
       "      <td>9.233273e-07</td>\n",
       "      <td>1.047945e-06</td>\n",
       "      <td>1.122718e-06</td>\n",
       "      <td>1.194420e-06</td>\n",
       "    </tr>\n",
       "    <tr>\n",
       "      <th>50%</th>\n",
       "      <td>0.008772</td>\n",
       "      <td>0.034191</td>\n",
       "      <td>0.019024</td>\n",
       "      <td>0.038428</td>\n",
       "      <td>0.057726</td>\n",
       "      <td>0.070559</td>\n",
       "      <td>0.024370</td>\n",
       "      <td>0.027268</td>\n",
       "      <td>0.672117</td>\n",
       "      <td>0.667981</td>\n",
       "      <td>...</td>\n",
       "      <td>2.984552e-06</td>\n",
       "      <td>3.647678e-07</td>\n",
       "      <td>4.751045e-07</td>\n",
       "      <td>6.195166e-07</td>\n",
       "      <td>7.529692e-07</td>\n",
       "      <td>9.202087e-07</td>\n",
       "      <td>1.074208e-06</td>\n",
       "      <td>1.213779e-06</td>\n",
       "      <td>1.297868e-06</td>\n",
       "      <td>1.384774e-06</td>\n",
       "    </tr>\n",
       "    <tr>\n",
       "      <th>75%</th>\n",
       "      <td>0.013381</td>\n",
       "      <td>0.051505</td>\n",
       "      <td>0.031098</td>\n",
       "      <td>0.072498</td>\n",
       "      <td>0.114671</td>\n",
       "      <td>0.122432</td>\n",
       "      <td>0.048132</td>\n",
       "      <td>0.632036</td>\n",
       "      <td>6.082687</td>\n",
       "      <td>4.328372</td>\n",
       "      <td>...</td>\n",
       "      <td>4.029944e-06</td>\n",
       "      <td>4.344774e-07</td>\n",
       "      <td>5.607697e-07</td>\n",
       "      <td>7.148487e-07</td>\n",
       "      <td>8.792096e-07</td>\n",
       "      <td>1.082274e-06</td>\n",
       "      <td>1.239032e-06</td>\n",
       "      <td>1.407126e-06</td>\n",
       "      <td>1.479581e-06</td>\n",
       "      <td>1.610641e-06</td>\n",
       "    </tr>\n",
       "    <tr>\n",
       "      <th>max</th>\n",
       "      <td>0.105121</td>\n",
       "      <td>1.252614</td>\n",
       "      <td>2.377263</td>\n",
       "      <td>15.923856</td>\n",
       "      <td>21.722137</td>\n",
       "      <td>8.619404</td>\n",
       "      <td>3.281148</td>\n",
       "      <td>11.638498</td>\n",
       "      <td>25.064474</td>\n",
       "      <td>38.062290</td>\n",
       "      <td>...</td>\n",
       "      <td>1.392621e-05</td>\n",
       "      <td>7.910848e-06</td>\n",
       "      <td>6.212551e-06</td>\n",
       "      <td>5.742886e-06</td>\n",
       "      <td>5.627301e-06</td>\n",
       "      <td>6.966930e-06</td>\n",
       "      <td>4.427162e-06</td>\n",
       "      <td>3.863586e-06</td>\n",
       "      <td>2.579620e-06</td>\n",
       "      <td>4.086023e-06</td>\n",
       "    </tr>\n",
       "  </tbody>\n",
       "</table>\n",
       "<p>8 rows × 128 columns</p>\n",
       "</div>"
      ],
      "text/plain": [
       "                 1            2            3            4            5  \\\n",
       "count  1056.000000  1056.000000  1056.000000  1056.000000  1056.000000   \n",
       "mean   0.009681     0.038416     0.036924     0.122835     0.208162      \n",
       "std    0.008858     0.055058     0.130695     0.721914     1.193723      \n",
       "min    0.000090     0.000225     0.000688     0.001651     0.003415      \n",
       "25%    0.003502     0.012820     0.011070     0.019979     0.032271      \n",
       "50%    0.008772     0.034191     0.019024     0.038428     0.057726      \n",
       "75%    0.013381     0.051505     0.031098     0.072498     0.114671      \n",
       "max    0.105121     1.252614     2.377263     15.923856    21.722137     \n",
       "\n",
       "                 6            7            8            9           10  ...  \\\n",
       "count  1056.000000  1056.000000  1056.000000  1056.000000  1056.000000  ...   \n",
       "mean   0.147293     0.080255     0.929710     3.577569     2.905469     ...   \n",
       "std    0.484376     0.246331     1.770263     5.309386     4.738249     ...   \n",
       "min    0.001607     0.002365     0.000099     0.000293     0.000118     ...   \n",
       "25%    0.036619     0.014011     0.004962     0.006083     0.008521     ...   \n",
       "50%    0.070559     0.024370     0.027268     0.672117     0.667981     ...   \n",
       "75%    0.122432     0.048132     0.632036     6.082687     4.328372     ...   \n",
       "max    8.619404     3.281148     11.638498    25.064474    38.062290    ...   \n",
       "\n",
       "                119           120           121           122           123  \\\n",
       "count  1.056000e+03  1.056000e+03  1.056000e+03  1.056000e+03  1.056000e+03   \n",
       "mean   3.170996e-06  5.056936e-07  5.335052e-07  6.560833e-07  8.129951e-07   \n",
       "std    1.536607e-06  7.633981e-07  3.693617e-07  3.095824e-07  3.928499e-07   \n",
       "min    2.895328e-07  1.690951e-07  2.187908e-07  2.455984e-07  3.975522e-07   \n",
       "25%    2.119133e-06  3.103208e-07  4.072090e-07  5.303778e-07  6.406562e-07   \n",
       "50%    2.984552e-06  3.647678e-07  4.751045e-07  6.195166e-07  7.529692e-07   \n",
       "75%    4.029944e-06  4.344774e-07  5.607697e-07  7.148487e-07  8.792096e-07   \n",
       "max    1.392621e-05  7.910848e-06  6.212551e-06  5.742886e-06  5.627301e-06   \n",
       "\n",
       "                124           125           126           127           128  \n",
       "count  1.056000e+03  1.056000e+03  1.056000e+03  1.056000e+03  1.056000e+03  \n",
       "mean   9.625783e-07  1.113871e-06  1.243955e-06  1.328553e-06  1.418215e-06  \n",
       "std    3.567225e-07  3.433026e-07  2.979661e-07  2.849756e-07  3.169576e-07  \n",
       "min    4.365147e-07  3.887883e-07  5.654759e-07  6.364306e-07  7.125145e-07  \n",
       "25%    7.883439e-07  9.233273e-07  1.047945e-06  1.122718e-06  1.194420e-06  \n",
       "50%    9.202087e-07  1.074208e-06  1.213779e-06  1.297868e-06  1.384774e-06  \n",
       "75%    1.082274e-06  1.239032e-06  1.407126e-06  1.479581e-06  1.610641e-06  \n",
       "max    6.966930e-06  4.427162e-06  3.863586e-06  2.579620e-06  4.086023e-06  \n",
       "\n",
       "[8 rows x 128 columns]"
      ]
     },
     "execution_count": 362,
     "metadata": {},
     "output_type": "execute_result"
    }
   ],
   "source": [
    "D_df.describe(percentiles=[.25, .5, .75],)"
   ]
  },
  {
   "cell_type": "code",
   "execution_count": 361,
   "metadata": {},
   "outputs": [
    {
     "data": {
      "text/plain": [
       "''"
      ]
     },
     "execution_count": 361,
     "metadata": {},
     "output_type": "execute_result"
    },
    {
     "data": {
      "image/png": "[encoded data removed]",
      "text/plain": [
       "<Figure size 432x288 with 1 Axes>"
      ]
     },
     "metadata": {
      "needs_background": "light"
     },
     "output_type": "display_data"
    }
   ],
   "source": [
    "D_sums = D_df[D_columns].mean()\n",
    "plt.plot(D_sums)\n",
    "plt.xticks(np.arange(128, step=20,),rotation=60, fontsize=10)\n",
    "# plt.xlim(0,60)\n",
    "plt.xlabel(\"Mel-Scale\")\n",
    "plt.ylabel(\"Frequency\")\n",
    "\"\""
   ]
  },
  {
   "cell_type": "markdown",
   "metadata": {},
   "source": [
    "Validation Samples"
   ]
  },
  {
   "cell_type": "code",
   "execution_count": 350,
   "metadata": {},
   "outputs": [],
   "source": [
    "val_D_rustle = '../../data/audio_sources/wav/damaged/izotope_rustle.wav'\n",
    "val_D = AudioSegment(val_D_rustle, duration=12.25)\n",
    "\n",
    "val_G_rustle = '../../data/audio_sources/wav/gt/izotope_rustle.wav'\n",
    "val_G = AudioSegment(val_G_rustle, duration=12.25)\n"
   ]
  },
  {
   "cell_type": "code",
   "execution_count": 351,
   "metadata": {},
   "outputs": [
    {
     "name": "stdout",
     "output_type": "stream",
     "text": [
      "-0.15625\n",
      "0.18980408\n",
      "-7.1721847e-06\n"
     ]
    }
   ],
   "source": [
    "print(val_D.audio.min())\n",
    "print(val_D.audio.max())\n",
    "print(val_D.audio.mean())"
   ]
  },
  {
   "cell_type": "code",
   "execution_count": 352,
   "metadata": {},
   "outputs": [
    {
     "name": "stdout",
     "output_type": "stream",
     "text": [
      "(682, 128)\n",
      "4.694413e-12\n",
      "43.2241\n",
      "0.06474834\n"
     ]
    }
   ],
   "source": [
    "print(val_D.mel_features.T.shape)\n",
    "print(val_D.mel_features.T.min())\n",
    "print(val_D.mel_features.T.max())\n",
    "print(val_D.mel_features.T.mean())"
   ]
  },
  {
   "cell_type": "code",
   "execution_count": 353,
   "metadata": {},
   "outputs": [
    {
     "data": {
      "text/plain": [
       "<matplotlib.legend.Legend at 0x1f8f2fc50>"
      ]
     },
     "execution_count": 353,
     "metadata": {},
     "output_type": "execute_result"
    },
    {
     "data": {
      "image/png": "[encoded data removed]",
      "text/plain": [
       "<Figure size 432x288 with 1 Axes>"
      ]
     },
     "metadata": {},
     "output_type": "display_data"
    }
   ],
   "source": [
    "librosa_display.waveplot(val_G.audio, val_G.sample_rate, color='b',)\n",
    "librosa_display.waveplot(val_D.audio, val_D.sample_rate, color='c', alpha=.75)\n",
    "plt.legend(['Ground-truth', 'Damaged'])"
   ]
  },
  {
   "cell_type": "code",
   "execution_count": 363,
   "metadata": {},
   "outputs": [
    {
     "data": {
      "text/plain": [
       "Text(0, 0.5, 'Frequency')"
      ]
     },
     "execution_count": 363,
     "metadata": {},
     "output_type": "execute_result"
    },
    {
     "data": {
      "image/png": "[encoded data removed]",
      "text/plain": [
       "<Figure size 432x288 with 1 Axes>"
      ]
     },
     "metadata": {
      "needs_background": "light"
     },
     "output_type": "display_data"
    }
   ],
   "source": [
    "val_D_sums = pd.DataFrame(val_D.mel_features.T, columns=columns)[columns].mean()\n",
    "plt.plot(val_D_sums)\n",
    "plt.xticks(np.arange(128, step=20,),rotation=60, fontsize=10)\n",
    "# plt.xlim(0,60)\n",
    "plt.xlabel(\"Mel-Scale\")\n",
    "plt.ylabel(\"Frequency\")"
   ]
  },
  {
   "cell_type": "code",
   "execution_count": 364,
   "metadata": {},
   "outputs": [
    {
     "data": {
      "text/plain": [
       "Text(0, 0.5, 'Frequency')"
      ]
     },
     "execution_count": 364,
     "metadata": {},
     "output_type": "execute_result"
    },
    {
     "data": {
      "image/png": "[encoded data removed]",
      "text/plain": [
       "<Figure size 432x288 with 1 Axes>"
      ]
     },
     "metadata": {
      "needs_background": "light"
     },
     "output_type": "display_data"
    }
   ],
   "source": [
    "val_G_sums = pd.DataFrame(val_G.mel_features.T, columns=columns)[columns].mean()\n",
    "plt.plot(val_G_sums)\n",
    "plt.xticks(np.arange(128, step=20,),rotation=60, fontsize=10)\n",
    "# plt.xlim(0,60)\n",
    "plt.xlabel(\"Mel-Scale\")\n",
    "plt.ylabel(\"Frequency\")"
   ]
  },
  {
   "cell_type": "code",
   "execution_count": null,
   "metadata": {},
   "outputs": [],
   "source": []
  }
 ],
 "metadata": {
  "kernelspec": {
   "display_name": "Python 3",
   "language": "python",
   "name": "python3"
  },
  "language_info": {
   "codemirror_mode": {
    "name": "ipython",
    "version": 3
   },
   "file_extension": ".py",
   "mimetype": "text/x-python",
   "name": "python",
   "nbconvert_exporter": "python",
   "pygments_lexer": "ipython3",
   "version": "3.7.3"
  }
 },
 "nbformat": 4,
 "nbformat_minor": 2
}

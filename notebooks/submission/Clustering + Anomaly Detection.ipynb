{
 "cells": [
  {
   "cell_type": "code",
   "execution_count": 84,
   "metadata": {},
   "outputs": [],
   "source": [
    "import numpy as np\n",
    "import librosa\n",
    "import matplotlib.pyplot as plt\n",
    "import pandas as pd\n",
    "import seaborn as sns\n",
    "\n",
    "from clusterer import Clusterer"
   ]
  },
  {
   "cell_type": "markdown",
   "metadata": {},
   "source": [
    "# Ground-Truth"
   ]
  },
  {
   "cell_type": "markdown",
   "metadata": {},
   "source": [
    "Load checkpoints"
   ]
  },
  {
   "cell_type": "code",
   "execution_count": 44,
   "metadata": {},
   "outputs": [],
   "source": [
    "def load_checkpoint(path:str) -> np.ndarray:\n",
    "    arr:np.ndarray = None\n",
    "    with open(path, 'rb') as f:\n",
    "        arr = np.load(f)\n",
    "    return arr"
   ]
  },
  {
   "cell_type": "code",
   "execution_count": 45,
   "metadata": {},
   "outputs": [
    {
     "name": "stdout",
     "output_type": "stream",
     "text": [
      "[[6.3289583e-05 5.2768064e-05 3.5819125e-05 ... 2.3706085e-05\n",
      "  2.0665200e-05 7.2684639e-07]\n",
      " [7.3489988e-05 4.5792454e-05 3.1348951e-05 ... 3.6043770e-05\n",
      "  1.3170381e-04 3.3057091e-05]]\n",
      "(128, 1056)\n"
     ]
    }
   ],
   "source": [
    "# G_full:np.ndarray = load_checkpoint('checkpoints/G_full.pkl')\n",
    "G_foreground:np.ndarray = load_checkpoint('checkpoints/G_foreground.pkl')\n",
    "\n",
    "print(G_foreground[:2])\n",
    "print(G_foreground.shape)"
   ]
  },
  {
   "cell_type": "markdown",
   "metadata": {},
   "source": [
    "Initialize clusterer"
   ]
  },
  {
   "cell_type": "code",
   "execution_count": 46,
   "metadata": {},
   "outputs": [],
   "source": [
    "G_clusterer:Clusterer = Clusterer(G_foreground.T, [f'm-{i}' for i in range(0,128)])"
   ]
  },
  {
   "cell_type": "markdown",
   "metadata": {},
   "source": [
    "Preview features"
   ]
  },
  {
   "cell_type": "code",
   "execution_count": null,
   "metadata": {},
   "outputs": [],
   "source": [
    "G_df = pd.DataFrame(G_foreground.T, columns=[f'm-{i}' for i in range(0,128)])\n",
    "G_df[:2]"
   ]
  },
  {
   "cell_type": "markdown",
   "metadata": {},
   "source": [
    "Establish K with Kmeans"
   ]
  },
  {
   "cell_type": "code",
   "execution_count": 75,
   "metadata": {},
   "outputs": [],
   "source": [
    "def search_param(method:callable, key:str, mn:int=2, mx:int=9, params:dict={}) -> int:\n",
    "    ks:list = []\n",
    "    for k in range(mn, mx):\n",
    "        try:\n",
    "            params.update({key: k})\n",
    "            sil_score = method(params)\n",
    "            ks.append((k, sil_score))\n",
    "            # print((k, sil_score))\n",
    "        except:\n",
    "            break\n",
    "    \n",
    "    best:list = sorted(ks, key=lambda tup: tup[1], reverse=True)\n",
    "    \n",
    "    val, _ = best[0]\n",
    "    \n",
    "    #print('best: ', _, val)\n",
    "    \n",
    "    return val"
   ]
  },
  {
   "cell_type": "code",
   "execution_count": 78,
   "metadata": {
    "scrolled": true
   },
   "outputs": [
    {
     "name": "stdout",
     "output_type": "stream",
     "text": [
      "Labels: (array([0, 1], dtype=int32), array([146, 910]))\n",
      "Silhouette Score: 0.66730756\n",
      "Best K: 2\n"
     ]
    }
   ],
   "source": [
    "G_k = search_param(G_clusterer.apply_kmeans, 'n_clusters', mn=2, mx=20,)\n",
    "G_km_SilScore = G_clusterer.apply_kmeans({'n_clusters': G_k})\n",
    "G_kmeans = G_clusterer.kmeans\n",
    "G_km_labels:list = G_kmeans.labels_\n",
    "    \n",
    "print('Labels:', np.unique(G_km_labels, return_counts=True))\n",
    "print('Silhouette Score:', G_km_SilScore)\n",
    "print('Best K:', G_k)"
   ]
  },
  {
   "cell_type": "code",
   "execution_count": 81,
   "metadata": {},
   "outputs": [
    {
     "data": {
      "image/png": "[encoded data removed]",
      "text/plain": [
       "<Figure size 432x288 with 1 Axes>"
      ]
     },
     "metadata": {
      "needs_background": "light"
     },
     "output_type": "display_data"
    }
   ],
   "source": [
    "# { b, g, r, c, m, y, k, w }\n",
    "    \n",
    "G_primary_cluster = np.where(G_km_labels == 0)[0]\n",
    "G_secondary_cluster = np.where(G_km_labels == 1)[0]\n",
    "\n",
    "plt.xlim(-.0001, .0009)\n",
    "plt.ylim(-.0001, .0008)\n",
    "\n",
    "plt.title('K-means Clusters for Ground Truth')\n",
    "\n",
    "plt.scatter(G_foreground.T[G_primary_cluster][:, 0], G_foreground.T[G_primary_cluster][:, 1], s=50, c='c');\n",
    "plt.scatter(G_foreground.T[G_secondary_cluster][:, 0], G_foreground.T[G_secondary_cluster][:, 1], s=50, c='m', alpha=.25);\n"
   ]
  },
  {
   "cell_type": "markdown",
   "metadata": {},
   "source": [
    "Find outliers with DBSCAN"
   ]
  },
  {
   "cell_type": "code",
   "execution_count": 72,
   "metadata": {},
   "outputs": [
    {
     "name": "stdout",
     "output_type": "stream",
     "text": [
      "best:  0.5277224 55\n",
      "55\n"
     ]
    }
   ],
   "source": [
    "G_min_cluster_size:int = search_param(G_clusterer.apply_hdbscan, \n",
    "                                      'min_cluster_size', \n",
    "                                       mn=2, mx=100, \n",
    "                                       params={})"
   ]
  },
  {
   "cell_type": "code",
   "execution_count": 73,
   "metadata": {},
   "outputs": [
    {
     "name": "stdout",
     "output_type": "stream",
     "text": [
      "best:  0.5319491 49\n"
     ]
    }
   ],
   "source": [
    "G_min_samples:int = search_param(G_clusterer.apply_hdbscan,\n",
    "                                 'min_samples', \n",
    "                                 mn=2, mx=100,\n",
    "                                 params={'min_cluster_size': G_min_cluster_size})"
   ]
  },
  {
   "cell_type": "code",
   "execution_count": 82,
   "metadata": {},
   "outputs": [
    {
     "name": "stdout",
     "output_type": "stream",
     "text": [
      "Best K: 3\n",
      "Optimal min_cluster_size: 55\n",
      "Optimal min_samples: 49\n",
      "Labels: (array([-1,  0,  1]), array([170, 813,  73]))\n",
      "Silhouette Score: 0.5319491\n"
     ]
    }
   ],
   "source": [
    "G_hdb_SilScore:float = G_clusterer.apply_hdbscan({ # euclidean distance\n",
    "    'min_cluster_size':G_min_cluster_size,\n",
    "    'min_samples': G_min_samples,\n",
    "    'allow_single_cluster': True\n",
    "})\n",
    "G_hdb_labels:tuple = G_clusterer.hdbscan.labels_\n",
    "print('Best K:', len(np.unique(G_hdb_labels)))\n",
    "print('Optimal min_cluster_size:', G_min_cluster_size)\n",
    "print('Optimal min_samples:', G_min_samples)\n",
    "print('Labels:', np.unique(G_hdb_labels, return_counts=True))\n",
    "print('Silhouette Score:', G_hdb_SilScore)"
   ]
  },
  {
   "cell_type": "markdown",
   "metadata": {},
   "source": [
    "Establish baseline for outliers"
   ]
  },
  {
   "cell_type": "code",
   "execution_count": 108,
   "metadata": {},
   "outputs": [
    {
     "data": {
      "text/plain": [
       "array([0.04902951, 0.05063146, 0.05247493, 0.04460207, 0.        ])"
      ]
     },
     "execution_count": 108,
     "metadata": {},
     "output_type": "execute_result"
    }
   ],
   "source": [
    "G_outlier_scores = G_clusterer.hdbscan.outlier_scores_\n",
    "G_outlier_scores[:5]"
   ]
  },
  {
   "cell_type": "code",
   "execution_count": 115,
   "metadata": {},
   "outputs": [
    {
     "data": {
      "text/plain": [
       "Text(0.5, 1.0, 'Ground Truth Outliers')"
      ]
     },
     "execution_count": 115,
     "metadata": {},
     "output_type": "execute_result"
    },
    {
     "data": {
      "image/png": "[encoded data removed]",
      "text/plain": [
       "<Figure size 432x288 with 1 Axes>"
      ]
     },
     "metadata": {
      "needs_background": "light"
     },
     "output_type": "display_data"
    }
   ],
   "source": [
    "sns.distplot(G_outlier_scores[np.isfinite(G_outlier_scores)], \n",
    "             rug=True,)\n",
    "plt.title(\"Ground Truth Outliers\")"
   ]
  },
  {
   "cell_type": "code",
   "execution_count": 121,
   "metadata": {},
   "outputs": [
    {
     "name": "stdout",
     "output_type": "stream",
     "text": [
      "Total Scores > 0.973784851805894 = 106\n"
     ]
    }
   ],
   "source": [
    "threshold:np.ndarray = pd.Series(G_outlier_scores).quantile(.9)\n",
    "outliers:np.ndarray = np.where(G_outlier_scores > threshold)[0]\n",
    "print(f'Total Scores > {threshold} = {len(outliers)}')"
   ]
  },
  {
   "cell_type": "markdown",
   "metadata": {},
   "source": [
    "# Damaged"
   ]
  },
  {
   "cell_type": "code",
   "execution_count": 124,
   "metadata": {},
   "outputs": [
    {
     "name": "stdout",
     "output_type": "stream",
     "text": [
      "[[0.00364477 0.00130424 0.00304495 ... 0.01756942 0.01682045 0.00175911]\n",
      " [0.02037755 0.00958439 0.00574314 ... 0.06446123 0.05637852 0.01214198]]\n",
      "(128, 1056)\n"
     ]
    }
   ],
   "source": [
    "D_foreground:np.ndarray = load_checkpoint('checkpoints/D_foreground.pkl')\n",
    "\n",
    "print(D_foreground[:2])\n",
    "print(D_foreground.shape)"
   ]
  },
  {
   "cell_type": "markdown",
   "metadata": {},
   "source": [
    "Initialize clusterer"
   ]
  },
  {
   "cell_type": "code",
   "execution_count": 125,
   "metadata": {},
   "outputs": [],
   "source": [
    "D_clusterer:Clusterer = Clusterer(D_foreground.T, [f'm-{i}' for i in range(0,128)])"
   ]
  },
  {
   "cell_type": "code",
   "execution_count": 126,
   "metadata": {},
   "outputs": [
    {
     "name": "stdout",
     "output_type": "stream",
     "text": [
      "labels: (array([0, 1, 2], dtype=int32), array([722, 167, 167]))\n",
      "silhouette score: 0.6328212\n",
      "Best K: 3\n"
     ]
    }
   ],
   "source": [
    "D_k = search_param(D_clusterer.apply_kmeans, 'n_clusters', mn=2, mx=20,)\n",
    "D_km_SilScore = D_clusterer.apply_kmeans({'n_clusters': D_k})\n",
    "D_kmeans = D_clusterer.kmeans\n",
    "D_km_labels:list = D_kmeans.labels_\n",
    "    \n",
    "print('labels:', np.unique(D_km_labels, return_counts=True))\n",
    "print('silhouette score:', D_km_SilScore)\n",
    "print('Best K:', D_k)"
   ]
  },
  {
   "cell_type": "code",
   "execution_count": null,
   "metadata": {},
   "outputs": [],
   "source": []
  }
 ],
 "metadata": {
  "kernelspec": {
   "display_name": "Python 3",
   "language": "python",
   "name": "python3"
  },
  "language_info": {
   "codemirror_mode": {
    "name": "ipython",
    "version": 3
   },
   "file_extension": ".py",
   "mimetype": "text/x-python",
   "name": "python",
   "nbconvert_exporter": "python",
   "pygments_lexer": "ipython3",
   "version": "3.7.3"
  }
 },
 "nbformat": 4,
 "nbformat_minor": 2
}
